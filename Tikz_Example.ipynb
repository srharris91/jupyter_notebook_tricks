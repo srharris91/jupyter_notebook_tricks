{
 "cells": [
  {
   "cell_type": "markdown",
   "metadata": {
    "toc": true
   },
   "source": [
    "<h1>Table of Contents<span class=\"tocSkip\"></span></h1>\n",
    "<div class=\"toc\" style=\"margin-top: 1em;\"><ul class=\"toc-item\"><li><span><a href=\"#Title-stuff\" data-toc-modified-id=\"Title-stuff-1\"><span class=\"toc-item-num\">1&nbsp;&nbsp;</span>Title stuff</a></span><ul class=\"toc-item\"><li><span><a href=\"#subhead1-you-know\" data-toc-modified-id=\"subhead1-you-know-1.1\"><span class=\"toc-item-num\">1.1&nbsp;&nbsp;</span>subhead1 you know</a></span><ul class=\"toc-item\"><li><span><a href=\"#yes\" data-toc-modified-id=\"yes-1.1.1\"><span class=\"toc-item-num\">1.1.1&nbsp;&nbsp;</span>yes</a></span></li></ul></li></ul></li><li><span><a href=\"#plot\" data-toc-modified-id=\"plot-2\"><span class=\"toc-item-num\">2&nbsp;&nbsp;</span>plot</a></span></li></ul></div>"
   ]
  },
  {
   "cell_type": "markdown",
   "metadata": {},
   "source": [
    "# Title stuff\n",
    "do this thing\n",
    "\n",
    "## subhead1 you know\n",
    "\n",
    "$x=6$\n",
    "### yes\n"
   ]
  },
  {
   "cell_type": "code",
   "execution_count": 1,
   "metadata": {},
   "outputs": [],
   "source": [
    "%load_ext tikzmagic"
   ]
  },
  {
   "cell_type": "code",
   "execution_count": 2,
   "metadata": {
    "code_folding": []
   },
   "outputs": [
    {
     "data": {
      "image/svg+xml": [
       "<svg height=\"400px\" version=\"1.1\" viewBox=\"0 0 226.971 226.971\" width=\"800px\" xmlns=\"http://www.w3.org/2000/svg\" xmlns:xlink=\"http://www.w3.org/1999/xlink\">\n",
       "<defs>\n",
       "<g>\n",
       "<symbol id=\"glyph0-0\" overflow=\"visible\">\n",
       "<path d=\"\" style=\"stroke:none;\"/>\n",
       "</symbol>\n",
       "<symbol id=\"glyph0-1\" overflow=\"visible\">\n",
       "<path d=\"M 3.296875 2.390625 C 3.296875 2.359375 3.296875 2.34375 3.125 2.171875 C 1.890625 0.921875 1.5625 -0.96875 1.5625 -2.5 C 1.5625 -4.234375 1.9375 -5.96875 3.171875 -7.203125 C 3.296875 -7.328125 3.296875 -7.34375 3.296875 -7.375 C 3.296875 -7.453125 3.265625 -7.484375 3.203125 -7.484375 C 3.09375 -7.484375 2.203125 -6.796875 1.609375 -5.53125 C 1.109375 -4.4375 0.984375 -3.328125 0.984375 -2.5 C 0.984375 -1.71875 1.09375 -0.515625 1.640625 0.625 C 2.25 1.84375 3.09375 2.5 3.203125 2.5 C 3.265625 2.5 3.296875 2.46875 3.296875 2.390625 Z M 3.296875 2.390625 \" style=\"stroke:none;\"/>\n",
       "</symbol>\n",
       "<symbol id=\"glyph0-2\" overflow=\"visible\">\n",
       "<path d=\"M 2.875 -2.5 C 2.875 -3.265625 2.765625 -4.46875 2.21875 -5.609375 C 1.625 -6.828125 0.765625 -7.484375 0.671875 -7.484375 C 0.609375 -7.484375 0.5625 -7.4375 0.5625 -7.375 C 0.5625 -7.34375 0.5625 -7.328125 0.75 -7.140625 C 1.734375 -6.15625 2.296875 -4.578125 2.296875 -2.5 C 2.296875 -0.78125 1.9375 0.96875 0.703125 2.21875 C 0.5625 2.34375 0.5625 2.359375 0.5625 2.390625 C 0.5625 2.453125 0.609375 2.5 0.671875 2.5 C 0.765625 2.5 1.671875 1.8125 2.25 0.546875 C 2.765625 -0.546875 2.875 -1.65625 2.875 -2.5 Z M 2.875 -2.5 \" style=\"stroke:none;\"/>\n",
       "</symbol>\n",
       "<symbol id=\"glyph0-3\" overflow=\"visible\">\n",
       "<path d=\"M 4.078125 -2.296875 L 6.859375 -2.296875 C 7 -2.296875 7.1875 -2.296875 7.1875 -2.5 C 7.1875 -2.6875 7 -2.6875 6.859375 -2.6875 L 4.078125 -2.6875 L 4.078125 -5.484375 C 4.078125 -5.625 4.078125 -5.8125 3.875 -5.8125 C 3.671875 -5.8125 3.671875 -5.625 3.671875 -5.484375 L 3.671875 -2.6875 L 0.890625 -2.6875 C 0.75 -2.6875 0.5625 -2.6875 0.5625 -2.5 C 0.5625 -2.296875 0.75 -2.296875 0.890625 -2.296875 L 3.671875 -2.296875 L 3.671875 0.5 C 3.671875 0.640625 3.671875 0.828125 3.875 0.828125 C 4.078125 0.828125 4.078125 0.640625 4.078125 0.5 Z M 4.078125 -2.296875 \" style=\"stroke:none;\"/>\n",
       "</symbol>\n",
       "<symbol id=\"glyph0-4\" overflow=\"visible\">\n",
       "<path d=\"M 2.9375 -6.375 C 2.9375 -6.625 2.9375 -6.640625 2.703125 -6.640625 C 2.078125 -6 1.203125 -6 0.890625 -6 L 0.890625 -5.6875 C 1.09375 -5.6875 1.671875 -5.6875 2.1875 -5.953125 L 2.1875 -0.78125 C 2.1875 -0.421875 2.15625 -0.3125 1.265625 -0.3125 L 0.953125 -0.3125 L 0.953125 0 C 1.296875 -0.03125 2.15625 -0.03125 2.5625 -0.03125 C 2.953125 -0.03125 3.828125 -0.03125 4.171875 0 L 4.171875 -0.3125 L 3.859375 -0.3125 C 2.953125 -0.3125 2.9375 -0.421875 2.9375 -0.78125 Z M 2.9375 -6.375 \" style=\"stroke:none;\"/>\n",
       "</symbol>\n",
       "<symbol id=\"glyph1-0\" overflow=\"visible\">\n",
       "<path d=\"\" style=\"stroke:none;\"/>\n",
       "</symbol>\n",
       "<symbol id=\"glyph1-1\" overflow=\"visible\">\n",
       "<path d=\"M 2.828125 -6.234375 C 2.828125 -6.4375 2.6875 -6.59375 2.46875 -6.59375 C 2.1875 -6.59375 1.921875 -6.328125 1.921875 -6.0625 C 1.921875 -5.875 2.0625 -5.703125 2.296875 -5.703125 C 2.53125 -5.703125 2.828125 -5.9375 2.828125 -6.234375 Z M 2.078125 -2.484375 C 2.1875 -2.765625 2.1875 -2.796875 2.296875 -3.0625 C 2.375 -3.265625 2.421875 -3.40625 2.421875 -3.59375 C 2.421875 -4.03125 2.109375 -4.40625 1.609375 -4.40625 C 0.671875 -4.40625 0.296875 -2.953125 0.296875 -2.875 C 0.296875 -2.765625 0.390625 -2.765625 0.40625 -2.765625 C 0.515625 -2.765625 0.515625 -2.796875 0.5625 -2.953125 C 0.84375 -3.890625 1.234375 -4.1875 1.578125 -4.1875 C 1.65625 -4.1875 1.828125 -4.1875 1.828125 -3.875 C 1.828125 -3.65625 1.75 -3.453125 1.71875 -3.34375 C 1.640625 -3.09375 1.1875 -1.9375 1.03125 -1.5 C 0.921875 -1.25 0.796875 -0.921875 0.796875 -0.703125 C 0.796875 -0.234375 1.140625 0.109375 1.609375 0.109375 C 2.546875 0.109375 2.921875 -1.328125 2.921875 -1.421875 C 2.921875 -1.53125 2.828125 -1.53125 2.796875 -1.53125 C 2.703125 -1.53125 2.703125 -1.5 2.65625 -1.34375 C 2.46875 -0.71875 2.140625 -0.109375 1.640625 -0.109375 C 1.46875 -0.109375 1.390625 -0.203125 1.390625 -0.4375 C 1.390625 -0.6875 1.453125 -0.828125 1.6875 -1.4375 Z M 2.078125 -2.484375 \" style=\"stroke:none;\"/>\n",
       "</symbol>\n",
       "<symbol id=\"glyph1-2\" overflow=\"visible\">\n",
       "<path d=\"M 2.03125 -0.015625 C 2.03125 -0.671875 1.78125 -1.0625 1.390625 -1.0625 C 1.0625 -1.0625 0.859375 -0.8125 0.859375 -0.53125 C 0.859375 -0.265625 1.0625 0 1.390625 0 C 1.5 0 1.640625 -0.046875 1.734375 -0.125 C 1.765625 -0.15625 1.78125 -0.15625 1.78125 -0.15625 C 1.796875 -0.15625 1.796875 -0.15625 1.796875 -0.015625 C 1.796875 0.734375 1.453125 1.328125 1.125 1.65625 C 1.015625 1.765625 1.015625 1.78125 1.015625 1.8125 C 1.015625 1.890625 1.0625 1.921875 1.109375 1.921875 C 1.21875 1.921875 2.03125 1.15625 2.03125 -0.015625 Z M 2.03125 -0.015625 \" style=\"stroke:none;\"/>\n",
       "</symbol>\n",
       "<symbol id=\"glyph1-3\" overflow=\"visible\">\n",
       "<path d=\"M 3.953125 -6.234375 C 3.953125 -6.421875 3.8125 -6.59375 3.578125 -6.59375 C 3.34375 -6.59375 3.046875 -6.359375 3.046875 -6.0625 C 3.046875 -5.859375 3.1875 -5.703125 3.421875 -5.703125 C 3.6875 -5.703125 3.953125 -5.96875 3.953125 -6.234375 Z M 1.953125 0.5 C 1.765625 1.25 1.28125 1.828125 0.734375 1.828125 C 0.671875 1.828125 0.515625 1.828125 0.34375 1.734375 C 0.640625 1.671875 0.78125 1.40625 0.78125 1.203125 C 0.78125 1.046875 0.671875 0.859375 0.40625 0.859375 C 0.15625 0.859375 -0.125 1.0625 -0.125 1.421875 C -0.125 1.828125 0.265625 2.046875 0.75 2.046875 C 1.453125 2.046875 2.375 1.515625 2.625 0.53125 L 3.53125 -3.125 C 3.59375 -3.3125 3.59375 -3.453125 3.59375 -3.484375 C 3.59375 -4.0625 3.171875 -4.40625 2.671875 -4.40625 C 1.65625 -4.40625 1.09375 -2.953125 1.09375 -2.875 C 1.09375 -2.765625 1.1875 -2.765625 1.203125 -2.765625 C 1.296875 -2.765625 1.3125 -2.78125 1.390625 -2.96875 C 1.640625 -3.578125 2.09375 -4.1875 2.640625 -4.1875 C 2.78125 -4.1875 2.953125 -4.140625 2.953125 -3.734375 C 2.953125 -3.5 2.9375 -3.390625 2.890625 -3.21875 Z M 1.953125 0.5 \" style=\"stroke:none;\"/>\n",
       "</symbol>\n",
       "</g>\n",
       "</defs>\n",
       "<g id=\"surface1\">\n",
       "<path d=\"M -28.348344 0.0015625 L 198.429 0.0015625 M -28.348344 56.692969 L 198.429 56.692969 M -28.348344 113.388281 L 198.429 113.388281 M -28.348344 170.079688 L 198.429 170.079688 M -0.0006875 -28.346094 L -0.0006875 198.427344 M 56.694625 -28.346094 L 56.694625 198.427344 M 113.386031 -28.346094 L 113.386031 198.427344 M 170.081344 -28.346094 L 170.081344 198.427344 \" style=\"fill:none;stroke-width:0.19925;stroke-linecap:butt;stroke-linejoin:miter;stroke:rgb(50%,50%,50%);stroke-opacity:1;stroke-miterlimit:10;\" transform=\"matrix(1,0,0,-1,28.446,198.525)\"/>\n",
       "<path d=\"M 56.694625 56.692969 L 56.694625 113.388281 L 113.386031 113.388281 L 113.386031 56.692969 Z M 56.694625 56.692969 \" style=\"fill-rule:nonzero;fill:rgb(59.999084%,59.999084%,100%);fill-opacity:1;stroke-width:1.41731;stroke-linecap:butt;stroke-linejoin:miter;stroke:rgb(0%,0%,0%);stroke-opacity:1;stroke-miterlimit:10;\" transform=\"matrix(1,0,0,-1,28.446,198.525)\"/>\n",
       "<g style=\"fill:rgb(39.99939%,39.99939%,100%);fill-opacity:1;\">\n",
       "  <use x=\"61.337\" xlink:href=\"#glyph0-1\" y=\"152.824\"/>\n",
       "</g>\n",
       "<g style=\"fill:rgb(39.99939%,39.99939%,100%);fill-opacity:1;\">\n",
       "  <use x=\"65.212\" xlink:href=\"#glyph1-1\" y=\"152.824\"/>\n",
       "  <use x=\"68.644116\" xlink:href=\"#glyph1-2\" y=\"152.824\"/>\n",
       "</g>\n",
       "<g style=\"fill:rgb(39.99939%,39.99939%,100%);fill-opacity:1;\">\n",
       "  <use x=\"73.07548\" xlink:href=\"#glyph1-3\" y=\"152.824\"/>\n",
       "</g>\n",
       "<g style=\"fill:rgb(39.99939%,39.99939%,100%);fill-opacity:1;\">\n",
       "  <use x=\"77.745\" xlink:href=\"#glyph0-2\" y=\"152.824\"/>\n",
       "</g>\n",
       "<g style=\"fill:rgb(39.99939%,39.99939%,100%);fill-opacity:1;\">\n",
       "  <use x=\"145.352\" xlink:href=\"#glyph0-1\" y=\"152.824\"/>\n",
       "</g>\n",
       "<g style=\"fill:rgb(39.99939%,39.99939%,100%);fill-opacity:1;\">\n",
       "  <use x=\"149.226\" xlink:href=\"#glyph1-1\" y=\"152.824\"/>\n",
       "</g>\n",
       "<g style=\"fill:rgb(39.99939%,39.99939%,100%);fill-opacity:1;\">\n",
       "  <use x=\"154.872\" xlink:href=\"#glyph0-3\" y=\"152.824\"/>\n",
       "</g>\n",
       "<g style=\"fill:rgb(39.99939%,39.99939%,100%);fill-opacity:1;\">\n",
       "  <use x=\"164.832607\" xlink:href=\"#glyph0-4\" y=\"152.824\"/>\n",
       "</g>\n",
       "<g style=\"fill:rgb(39.99939%,39.99939%,100%);fill-opacity:1;\">\n",
       "  <use x=\"169.816\" xlink:href=\"#glyph1-2\" y=\"152.824\"/>\n",
       "</g>\n",
       "<g style=\"fill:rgb(39.99939%,39.99939%,100%);fill-opacity:1;\">\n",
       "  <use x=\"174.247364\" xlink:href=\"#glyph1-3\" y=\"152.824\"/>\n",
       "</g>\n",
       "<g style=\"fill:rgb(39.99939%,39.99939%,100%);fill-opacity:1;\">\n",
       "  <use x=\"178.917\" xlink:href=\"#glyph0-2\" y=\"152.824\"/>\n",
       "</g>\n",
       "<g style=\"fill:rgb(39.99939%,39.99939%,100%);fill-opacity:1;\">\n",
       "  <use x=\"145.352\" xlink:href=\"#glyph0-1\" y=\"79.129\"/>\n",
       "</g>\n",
       "<g style=\"fill:rgb(39.99939%,39.99939%,100%);fill-opacity:1;\">\n",
       "  <use x=\"149.226\" xlink:href=\"#glyph1-1\" y=\"79.129\"/>\n",
       "</g>\n",
       "<g style=\"fill:rgb(39.99939%,39.99939%,100%);fill-opacity:1;\">\n",
       "  <use x=\"154.872\" xlink:href=\"#glyph0-3\" y=\"79.129\"/>\n",
       "</g>\n",
       "<g style=\"fill:rgb(39.99939%,39.99939%,100%);fill-opacity:1;\">\n",
       "  <use x=\"164.832607\" xlink:href=\"#glyph0-4\" y=\"79.129\"/>\n",
       "</g>\n",
       "<g style=\"fill:rgb(39.99939%,39.99939%,100%);fill-opacity:1;\">\n",
       "  <use x=\"169.816\" xlink:href=\"#glyph1-2\" y=\"79.129\"/>\n",
       "</g>\n",
       "<g style=\"fill:rgb(39.99939%,39.99939%,100%);fill-opacity:1;\">\n",
       "  <use x=\"174.247364\" xlink:href=\"#glyph1-3\" y=\"79.129\"/>\n",
       "</g>\n",
       "<g style=\"fill:rgb(39.99939%,39.99939%,100%);fill-opacity:1;\">\n",
       "  <use x=\"181.131\" xlink:href=\"#glyph0-3\" y=\"79.129\"/>\n",
       "</g>\n",
       "<g style=\"fill:rgb(39.99939%,39.99939%,100%);fill-opacity:1;\">\n",
       "  <use x=\"191.091607\" xlink:href=\"#glyph0-4\" y=\"79.129\"/>\n",
       "  <use x=\"196.072907\" xlink:href=\"#glyph0-2\" y=\"79.129\"/>\n",
       "</g>\n",
       "<g style=\"fill:rgb(39.99939%,39.99939%,100%);fill-opacity:1;\">\n",
       "  <use x=\"44.18\" xlink:href=\"#glyph0-1\" y=\"79.129\"/>\n",
       "</g>\n",
       "<g style=\"fill:rgb(39.99939%,39.99939%,100%);fill-opacity:1;\">\n",
       "  <use x=\"48.054\" xlink:href=\"#glyph1-1\" y=\"79.129\"/>\n",
       "  <use x=\"51.486116\" xlink:href=\"#glyph1-2\" y=\"79.129\"/>\n",
       "</g>\n",
       "<g style=\"fill:rgb(39.99939%,39.99939%,100%);fill-opacity:1;\">\n",
       "  <use x=\"55.91748\" xlink:href=\"#glyph1-3\" y=\"79.129\"/>\n",
       "</g>\n",
       "<g style=\"fill:rgb(39.99939%,39.99939%,100%);fill-opacity:1;\">\n",
       "  <use x=\"62.801\" xlink:href=\"#glyph0-3\" y=\"79.129\"/>\n",
       "</g>\n",
       "<g style=\"fill:rgb(39.99939%,39.99939%,100%);fill-opacity:1;\">\n",
       "  <use x=\"72.761607\" xlink:href=\"#glyph0-4\" y=\"79.129\"/>\n",
       "  <use x=\"77.742907\" xlink:href=\"#glyph0-2\" y=\"79.129\"/>\n",
       "</g>\n",
       "<path d=\"M 2.83525 0.0015625 C 2.83525 1.564063 1.565719 2.833594 -0.0006875 2.833594 C -1.567094 2.833594 -2.836625 1.564063 -2.836625 0.0015625 C -2.836625 -1.564844 -1.567094 -2.834375 -0.0006875 -2.834375 C 1.565719 -2.834375 2.83525 -1.564844 2.83525 0.0015625 Z M 2.83525 0.0015625 \" style=\"fill-rule:nonzero;fill:rgb(50%,50%,50%);fill-opacity:1;stroke-width:0.3985;stroke-linecap:butt;stroke-linejoin:miter;stroke:rgb(50%,50%,50%);stroke-opacity:1;stroke-miterlimit:10;\" transform=\"matrix(1,0,0,-1,28.446,198.525)\"/>\n",
       "<path d=\"M 2.83525 56.692969 C 2.83525 58.259375 1.565719 59.528906 -0.0006875 59.528906 C -1.567094 59.528906 -2.836625 58.259375 -2.836625 56.692969 C -2.836625 55.126563 -1.567094 53.857031 -0.0006875 53.857031 C 1.565719 53.857031 2.83525 55.126563 2.83525 56.692969 Z M 2.83525 56.692969 \" style=\"fill-rule:nonzero;fill:rgb(50%,50%,50%);fill-opacity:1;stroke-width:0.3985;stroke-linecap:butt;stroke-linejoin:miter;stroke:rgb(50%,50%,50%);stroke-opacity:1;stroke-miterlimit:10;\" transform=\"matrix(1,0,0,-1,28.446,198.525)\"/>\n",
       "<path d=\"M 2.83525 113.388281 C 2.83525 114.954688 1.565719 116.220313 -0.0006875 116.220313 C -1.567094 116.220313 -2.836625 114.954688 -2.836625 113.388281 C -2.836625 111.821875 -1.567094 110.552344 -0.0006875 110.552344 C 1.565719 110.552344 2.83525 111.821875 2.83525 113.388281 Z M 2.83525 113.388281 \" style=\"fill-rule:nonzero;fill:rgb(50%,50%,50%);fill-opacity:1;stroke-width:0.3985;stroke-linecap:butt;stroke-linejoin:miter;stroke:rgb(50%,50%,50%);stroke-opacity:1;stroke-miterlimit:10;\" transform=\"matrix(1,0,0,-1,28.446,198.525)\"/>\n",
       "<path d=\"M 2.83525 170.079688 C 2.83525 171.646094 1.565719 172.915625 -0.0006875 172.915625 C -1.567094 172.915625 -2.836625 171.646094 -2.836625 170.079688 C -2.836625 168.513281 -1.567094 167.247656 -0.0006875 167.247656 C 1.565719 167.247656 2.83525 168.513281 2.83525 170.079688 Z M 2.83525 170.079688 \" style=\"fill-rule:nonzero;fill:rgb(50%,50%,50%);fill-opacity:1;stroke-width:0.3985;stroke-linecap:butt;stroke-linejoin:miter;stroke:rgb(50%,50%,50%);stroke-opacity:1;stroke-miterlimit:10;\" transform=\"matrix(1,0,0,-1,28.446,198.525)\"/>\n",
       "<path d=\"M 59.526656 0.0015625 C 59.526656 1.564063 58.261031 2.833594 56.694625 2.833594 C 55.128219 2.833594 53.858688 1.564063 53.858688 0.0015625 C 53.858688 -1.564844 55.128219 -2.834375 56.694625 -2.834375 C 58.261031 -2.834375 59.526656 -1.564844 59.526656 0.0015625 Z M 59.526656 0.0015625 \" style=\"fill-rule:nonzero;fill:rgb(50%,50%,50%);fill-opacity:1;stroke-width:0.3985;stroke-linecap:butt;stroke-linejoin:miter;stroke:rgb(50%,50%,50%);stroke-opacity:1;stroke-miterlimit:10;\" transform=\"matrix(1,0,0,-1,28.446,198.525)\"/>\n",
       "<path d=\"M 59.526656 56.692969 C 59.526656 58.259375 58.261031 59.528906 56.694625 59.528906 C 55.128219 59.528906 53.858688 58.259375 53.858688 56.692969 C 53.858688 55.126563 55.128219 53.857031 56.694625 53.857031 C 58.261031 53.857031 59.526656 55.126563 59.526656 56.692969 Z M 59.526656 56.692969 \" style=\"fill-rule:nonzero;fill:rgb(0%,0%,0%);fill-opacity:1;stroke-width:0.3985;stroke-linecap:butt;stroke-linejoin:miter;stroke:rgb(0%,0%,0%);stroke-opacity:1;stroke-miterlimit:10;\" transform=\"matrix(1,0,0,-1,28.446,198.525)\"/>\n",
       "<path d=\"M 59.526656 113.388281 C 59.526656 114.954688 58.261031 116.220313 56.694625 116.220313 C 55.128219 116.220313 53.858688 114.954688 53.858688 113.388281 C 53.858688 111.821875 55.128219 110.552344 56.694625 110.552344 C 58.261031 110.552344 59.526656 111.821875 59.526656 113.388281 Z M 59.526656 113.388281 \" style=\"fill-rule:nonzero;fill:rgb(0%,0%,0%);fill-opacity:1;stroke-width:0.3985;stroke-linecap:butt;stroke-linejoin:miter;stroke:rgb(0%,0%,0%);stroke-opacity:1;stroke-miterlimit:10;\" transform=\"matrix(1,0,0,-1,28.446,198.525)\"/>\n",
       "<path d=\"M 59.526656 170.079688 C 59.526656 171.646094 58.261031 172.915625 56.694625 172.915625 C 55.128219 172.915625 53.858688 171.646094 53.858688 170.079688 C 53.858688 168.513281 55.128219 167.247656 56.694625 167.247656 C 58.261031 167.247656 59.526656 168.513281 59.526656 170.079688 Z M 59.526656 170.079688 \" style=\"fill-rule:nonzero;fill:rgb(50%,50%,50%);fill-opacity:1;stroke-width:0.3985;stroke-linecap:butt;stroke-linejoin:miter;stroke:rgb(50%,50%,50%);stroke-opacity:1;stroke-miterlimit:10;\" transform=\"matrix(1,0,0,-1,28.446,198.525)\"/>\n",
       "<path d=\"M 116.221969 0.0015625 C 116.221969 1.564063 114.952438 2.833594 113.386031 2.833594 C 111.823531 2.833594 110.554 1.564063 110.554 0.0015625 C 110.554 -1.564844 111.823531 -2.834375 113.386031 -2.834375 C 114.952438 -2.834375 116.221969 -1.564844 116.221969 0.0015625 Z M 116.221969 0.0015625 \" style=\"fill-rule:nonzero;fill:rgb(50%,50%,50%);fill-opacity:1;stroke-width:0.3985;stroke-linecap:butt;stroke-linejoin:miter;stroke:rgb(50%,50%,50%);stroke-opacity:1;stroke-miterlimit:10;\" transform=\"matrix(1,0,0,-1,28.446,198.525)\"/>\n",
       "<path d=\"M 116.221969 56.692969 C 116.221969 58.259375 114.952438 59.528906 113.386031 59.528906 C 111.823531 59.528906 110.554 58.259375 110.554 56.692969 C 110.554 55.126563 111.823531 53.857031 113.386031 53.857031 C 114.952438 53.857031 116.221969 55.126563 116.221969 56.692969 Z M 116.221969 56.692969 \" style=\"fill-rule:nonzero;fill:rgb(0%,0%,0%);fill-opacity:1;stroke-width:0.3985;stroke-linecap:butt;stroke-linejoin:miter;stroke:rgb(0%,0%,0%);stroke-opacity:1;stroke-miterlimit:10;\" transform=\"matrix(1,0,0,-1,28.446,198.525)\"/>\n",
       "<path d=\"M 116.221969 113.388281 C 116.221969 114.954688 114.952438 116.220313 113.386031 116.220313 C 111.823531 116.220313 110.554 114.954688 110.554 113.388281 C 110.554 111.821875 111.823531 110.552344 113.386031 110.552344 C 114.952438 110.552344 116.221969 111.821875 116.221969 113.388281 Z M 116.221969 113.388281 \" style=\"fill-rule:nonzero;fill:rgb(0%,0%,0%);fill-opacity:1;stroke-width:0.3985;stroke-linecap:butt;stroke-linejoin:miter;stroke:rgb(0%,0%,0%);stroke-opacity:1;stroke-miterlimit:10;\" transform=\"matrix(1,0,0,-1,28.446,198.525)\"/>\n",
       "<path d=\"M 116.221969 170.079688 C 116.221969 171.646094 114.952438 172.915625 113.386031 172.915625 C 111.823531 172.915625 110.554 171.646094 110.554 170.079688 C 110.554 168.513281 111.823531 167.247656 113.386031 167.247656 C 114.952438 167.247656 116.221969 168.513281 116.221969 170.079688 Z M 116.221969 170.079688 \" style=\"fill-rule:nonzero;fill:rgb(50%,50%,50%);fill-opacity:1;stroke-width:0.3985;stroke-linecap:butt;stroke-linejoin:miter;stroke:rgb(50%,50%,50%);stroke-opacity:1;stroke-miterlimit:10;\" transform=\"matrix(1,0,0,-1,28.446,198.525)\"/>\n",
       "<path d=\"M 172.917281 0.0015625 C 172.917281 1.564063 171.64775 2.833594 170.081344 2.833594 C 168.514938 2.833594 167.245406 1.564063 167.245406 0.0015625 C 167.245406 -1.564844 168.514938 -2.834375 170.081344 -2.834375 C 171.64775 -2.834375 172.917281 -1.564844 172.917281 0.0015625 Z M 172.917281 0.0015625 \" style=\"fill-rule:nonzero;fill:rgb(50%,50%,50%);fill-opacity:1;stroke-width:0.3985;stroke-linecap:butt;stroke-linejoin:miter;stroke:rgb(50%,50%,50%);stroke-opacity:1;stroke-miterlimit:10;\" transform=\"matrix(1,0,0,-1,28.446,198.525)\"/>\n",
       "<path d=\"M 172.917281 56.692969 C 172.917281 58.259375 171.64775 59.528906 170.081344 59.528906 C 168.514938 59.528906 167.245406 58.259375 167.245406 56.692969 C 167.245406 55.126563 168.514938 53.857031 170.081344 53.857031 C 171.64775 53.857031 172.917281 55.126563 172.917281 56.692969 Z M 172.917281 56.692969 \" style=\"fill-rule:nonzero;fill:rgb(50%,50%,50%);fill-opacity:1;stroke-width:0.3985;stroke-linecap:butt;stroke-linejoin:miter;stroke:rgb(50%,50%,50%);stroke-opacity:1;stroke-miterlimit:10;\" transform=\"matrix(1,0,0,-1,28.446,198.525)\"/>\n",
       "<path d=\"M 172.917281 113.388281 C 172.917281 114.954688 171.64775 116.220313 170.081344 116.220313 C 168.514938 116.220313 167.245406 114.954688 167.245406 113.388281 C 167.245406 111.821875 168.514938 110.552344 170.081344 110.552344 C 171.64775 110.552344 172.917281 111.821875 172.917281 113.388281 Z M 172.917281 113.388281 \" style=\"fill-rule:nonzero;fill:rgb(50%,50%,50%);fill-opacity:1;stroke-width:0.3985;stroke-linecap:butt;stroke-linejoin:miter;stroke:rgb(50%,50%,50%);stroke-opacity:1;stroke-miterlimit:10;\" transform=\"matrix(1,0,0,-1,28.446,198.525)\"/>\n",
       "<path d=\"M 172.917281 170.079688 C 172.917281 171.646094 171.64775 172.915625 170.081344 172.915625 C 168.514938 172.915625 167.245406 171.646094 167.245406 170.079688 C 167.245406 168.513281 168.514938 167.247656 170.081344 167.247656 C 171.64775 167.247656 172.917281 168.513281 172.917281 170.079688 Z M 172.917281 170.079688 \" style=\"fill-rule:nonzero;fill:rgb(50%,50%,50%);fill-opacity:1;stroke-width:0.3985;stroke-linecap:butt;stroke-linejoin:miter;stroke:rgb(50%,50%,50%);stroke-opacity:1;stroke-miterlimit:10;\" transform=\"matrix(1,0,0,-1,28.446,198.525)\"/>\n",
       "</g>\n",
       "</svg>"
      ]
     },
     "metadata": {
      "isolated": "true"
     },
     "output_type": "display_data"
    }
   ],
   "source": [
    "%%tikz -s 800,400 -f svg\n",
    "%tikz -s 400,400 -sc 1.2 -f png\n",
    "\\draw [style=help lines, step=2] (-1,-1) grid (+7,+7);\n",
    "\\draw [line width=0.5mm, fill=blue!40!white] (+2,+2) rectangle (+4,+4);\n",
    " \n",
    "\\draw [blue!60!white] (  2,  2) node[anchor=north east] {$(i  ,j  )$};\n",
    "\\draw [blue!60!white] (  4,  2) node[anchor=north west] {$(i+1,j  )$};\n",
    "\\draw [blue!60!white] (  4,  4) node[anchor=south west] {$(i+1,j+1)$};\n",
    "\\draw [blue!60!white] (  2,  4) node[anchor=south east] {$(i  ,j+1)$};\n",
    "\n",
    "\\filldraw [color=gray]\t(0,0) circle (.1);\n",
    "\\filldraw [color=gray]\t(0,2) circle (.1);\n",
    "\\filldraw [color=gray]\t(0,4) circle (.1);\n",
    "\\filldraw [color=gray]\t(0,6) circle (.1);\n",
    "\\filldraw [color=gray]\t(2,0) circle (.1);\n",
    "\\filldraw [color=black]\t(2,2) circle (.1);\n",
    "\\filldraw [color=black]\t(2,4) circle (.1);\n",
    "\\filldraw [color=gray]\t(2,6) circle (.1);\n",
    "\\filldraw [color=gray]\t(4,0) circle (.1);\n",
    "\\filldraw [color=black]\t(4,2) circle (.1);\n",
    "\\filldraw [color=black]\t(4,4) circle (.1);\n",
    "\\filldraw [color=gray]\t(4,6) circle (.1);\n",
    "\\filldraw [color=gray]\t(6,0) circle (.1);\n",
    "\\filldraw [color=gray]\t(6,2) circle (.1);\n",
    "\\filldraw [color=gray]\t(6,4) circle (.1);\n",
    "\\filldraw [color=gray]\t(6,6) circle (.1);\n"
   ]
  },
  {
   "cell_type": "markdown",
   "metadata": {},
   "source": [
    "$x=5$"
   ]
  },
  {
   "cell_type": "code",
   "execution_count": 3,
   "metadata": {
    "code_folding": [],
    "scrolled": true
   },
   "outputs": [
    {
     "data": {
      "image/svg+xml": [
       "<svg height=\"240px\" version=\"1.1\" viewBox=\"0 0 52.963 45.91\" width=\"400px\" xmlns=\"http://www.w3.org/2000/svg\" xmlns:xlink=\"http://www.w3.org/1999/xlink\">\n",
       "<defs>\n",
       "<g>\n",
       "<symbol id=\"glyph0-0\" overflow=\"visible\">\n",
       "<path d=\"\" style=\"stroke:none;\"/>\n",
       "</symbol>\n",
       "<symbol id=\"glyph0-1\" overflow=\"visible\">\n",
       "<path d=\"M 3.328125 -3.015625 C 3.390625 -3.265625 3.625 -4.1875 4.3125 -4.1875 C 4.359375 -4.1875 4.609375 -4.1875 4.8125 -4.0625 C 4.53125 -4 4.34375 -3.765625 4.34375 -3.515625 C 4.34375 -3.359375 4.453125 -3.171875 4.71875 -3.171875 C 4.9375 -3.171875 5.25 -3.34375 5.25 -3.75 C 5.25 -4.265625 4.671875 -4.40625 4.328125 -4.40625 C 3.75 -4.40625 3.40625 -3.875 3.28125 -3.65625 C 3.03125 -4.3125 2.5 -4.40625 2.203125 -4.40625 C 1.171875 -4.40625 0.59375 -3.125 0.59375 -2.875 C 0.59375 -2.765625 0.703125 -2.765625 0.71875 -2.765625 C 0.796875 -2.765625 0.828125 -2.796875 0.84375 -2.875 C 1.1875 -3.9375 1.84375 -4.1875 2.1875 -4.1875 C 2.375 -4.1875 2.71875 -4.09375 2.71875 -3.515625 C 2.71875 -3.203125 2.546875 -2.546875 2.1875 -1.140625 C 2.03125 -0.53125 1.671875 -0.109375 1.234375 -0.109375 C 1.171875 -0.109375 0.953125 -0.109375 0.734375 -0.234375 C 0.984375 -0.296875 1.203125 -0.5 1.203125 -0.78125 C 1.203125 -1.046875 0.984375 -1.125 0.84375 -1.125 C 0.53125 -1.125 0.296875 -0.875 0.296875 -0.546875 C 0.296875 -0.09375 0.78125 0.109375 1.21875 0.109375 C 1.890625 0.109375 2.25 -0.59375 2.265625 -0.640625 C 2.390625 -0.28125 2.75 0.109375 3.34375 0.109375 C 4.375 0.109375 4.9375 -1.171875 4.9375 -1.421875 C 4.9375 -1.53125 4.859375 -1.53125 4.828125 -1.53125 C 4.734375 -1.53125 4.71875 -1.484375 4.6875 -1.421875 C 4.359375 -0.34375 3.6875 -0.109375 3.375 -0.109375 C 2.984375 -0.109375 2.828125 -0.421875 2.828125 -0.765625 C 2.828125 -0.984375 2.875 -1.203125 2.984375 -1.640625 Z M 3.328125 -3.015625 \" style=\"stroke:none;\"/>\n",
       "</symbol>\n",
       "<symbol id=\"glyph0-2\" overflow=\"visible\">\n",
       "<path d=\"M 4.84375 -3.796875 C 4.890625 -3.9375 4.890625 -3.953125 4.890625 -4.03125 C 4.890625 -4.203125 4.75 -4.296875 4.59375 -4.296875 C 4.5 -4.296875 4.34375 -4.234375 4.25 -4.09375 C 4.234375 -4.03125 4.140625 -3.734375 4.109375 -3.546875 C 4.03125 -3.296875 3.96875 -3.015625 3.90625 -2.75 L 3.453125 -0.953125 C 3.421875 -0.8125 2.984375 -0.109375 2.328125 -0.109375 C 1.828125 -0.109375 1.71875 -0.546875 1.71875 -0.921875 C 1.71875 -1.375 1.890625 -2 2.21875 -2.875 C 2.375 -3.28125 2.421875 -3.390625 2.421875 -3.59375 C 2.421875 -4.03125 2.109375 -4.40625 1.609375 -4.40625 C 0.65625 -4.40625 0.296875 -2.953125 0.296875 -2.875 C 0.296875 -2.765625 0.390625 -2.765625 0.40625 -2.765625 C 0.515625 -2.765625 0.515625 -2.796875 0.5625 -2.953125 C 0.84375 -3.890625 1.234375 -4.1875 1.578125 -4.1875 C 1.65625 -4.1875 1.828125 -4.1875 1.828125 -3.875 C 1.828125 -3.625 1.71875 -3.359375 1.65625 -3.171875 C 1.25 -2.109375 1.078125 -1.546875 1.078125 -1.078125 C 1.078125 -0.1875 1.703125 0.109375 2.296875 0.109375 C 2.6875 0.109375 3.015625 -0.0625 3.296875 -0.34375 C 3.171875 0.171875 3.046875 0.671875 2.65625 1.203125 C 2.390625 1.53125 2.015625 1.828125 1.5625 1.828125 C 1.421875 1.828125 0.96875 1.796875 0.796875 1.40625 C 0.953125 1.40625 1.09375 1.40625 1.21875 1.28125 C 1.328125 1.203125 1.421875 1.0625 1.421875 0.875 C 1.421875 0.5625 1.15625 0.53125 1.0625 0.53125 C 0.828125 0.53125 0.5 0.6875 0.5 1.171875 C 0.5 1.671875 0.9375 2.046875 1.5625 2.046875 C 2.578125 2.046875 3.609375 1.140625 3.890625 0.015625 Z M 4.84375 -3.796875 \" style=\"stroke:none;\"/>\n",
       "</symbol>\n",
       "</g>\n",
       "<clipPath id=\"clip1\">\n",
       "  <path d=\"M 0 0 L 52 0 L 52 45.910156 L 0 45.910156 Z M 0 0 \"/>\n",
       "</clipPath>\n",
       "</defs>\n",
       "<g id=\"surface1\">\n",
       "<path d=\"M 0.00003125 27.889375 L 0.00003125 -0.00125 L 27.88675 -0.00125 \" style=\"fill:none;stroke-width:0.3985;stroke-linecap:butt;stroke-linejoin:miter;stroke:rgb(0%,0%,0%);stroke-opacity:1;stroke-miterlimit:10;\" transform=\"matrix(1,0,0,-1,12.082,34.78)\"/>\n",
       "<path d=\"M -1.194457 1.593719 C -1.096801 0.996063 0.000855 0.101531 0.29773 -0.00003125 C 0.000855 -0.0976875 -1.096801 -0.996125 -1.194457 -1.593781 \" style=\"fill:none;stroke-width:0.31879;stroke-linecap:round;stroke-linejoin:round;stroke:rgb(0%,0%,0%);stroke-opacity:1;stroke-miterlimit:10;\" transform=\"matrix(0,-1,-1,0,12.082,6.89148)\"/>\n",
       "<path d=\"M -1.197082 1.5925 C -1.09552 0.994844 -0.00177 0.100313 0.299011 -0.00125 C -0.00177 -0.0989062 -1.09552 -0.997344 -1.197082 -1.595 \" style=\"fill:none;stroke-width:0.31879;stroke-linecap:round;stroke-linejoin:round;stroke:rgb(0%,0%,0%);stroke-opacity:1;stroke-miterlimit:10;\" transform=\"matrix(1,0,0,-1,39.97052,34.78)\"/>\n",
       "<g style=\"fill:rgb(0%,0%,0%);fill-opacity:1;\">\n",
       "  <use x=\"43.948\" xlink:href=\"#glyph0-1\" y=\"42.589\"/>\n",
       "</g>\n",
       "<g style=\"fill:rgb(0%,0%,0%);fill-opacity:1;\">\n",
       "  <use x=\"3.32\" xlink:href=\"#glyph0-2\" y=\"7.61\"/>\n",
       "</g>\n",
       "<g clip-path=\"url(#clip1)\" clip-rule=\"nonzero\">\n",
       "<path d=\"M 0.00003125 -0.00125 L 1.179719 0.0495313 L 2.363312 0.197969 L 3.543 0.444063 L 4.722687 0.787813 L 5.902375 1.229219 L 7.085969 1.772188 L 8.265656 2.408906 L 9.445344 3.147188 L 10.628937 3.983125 L 11.808625 4.920625 L 12.988312 5.951875 L 14.168 7.084688 L 15.351594 8.31125 L 16.531281 9.639375 L 17.710969 11.069063 L 18.894562 12.5925 L 20.07425 14.213594 L 21.253937 15.93625 L 22.437531 17.756563 L 23.617219 19.674531 L 24.796906 21.694063 L 25.976594 23.807344 L 27.160187 26.022188 L 28.339875 28.334688 \" style=\"fill:none;stroke-width:0.79701;stroke-linecap:butt;stroke-linejoin:miter;stroke:rgb(0%,0%,0%);stroke-opacity:1;stroke-miterlimit:10;\" transform=\"matrix(1,0,0,-1,12.082,34.78)\"/>\n",
       "</g>\n",
       "</g>\n",
       "</svg>"
      ]
     },
     "metadata": {
      "isolated": "true"
     },
     "output_type": "display_data"
    }
   ],
   "source": [
    "%%tikz -f svg\n",
    "\\coordinate (y1) at (0,1);\n",
    "\\coordinate (x1) at (1,0);\n",
    "\\coordinate (orig) at (0,0);\n",
    "\\draw[<->] (y1) -- (orig) -- (x1);\n",
    "\\node[below right] at (x1) {$x$};\n",
    "\\node[left] at (y1) {$y$};\n",
    "\\draw[thick,domain=0:1] plot ({\\x,\\x*\\x});"
   ]
  },
  {
   "cell_type": "markdown",
   "metadata": {},
   "source": [
    "\\begin{align*}\n",
    "x&=5\\\\\n",
    "y_h &= 2\n",
    "\\end{align*}"
   ]
  },
  {
   "cell_type": "markdown",
   "metadata": {},
   "source": [
    "![Shaun the sheep\\label{fig:shaun}](Shaun_the_Sheep.PNG)\n",
    "\n",
    "[Shaun the sheep](https://upload.wikimedia.org/wikipedia/en/9/9d/Shaun_the_Sheep.PNG \"test title\") as seen in \\ref{fig:shaun}"
   ]
  },
  {
   "cell_type": "markdown",
   "metadata": {},
   "source": [
    "# plot\n",
    "stuff"
   ]
  },
  {
   "cell_type": "code",
   "execution_count": 6,
   "metadata": {},
   "outputs": [
    {
     "name": "stdout",
     "output_type": "stream",
     "text": [
      "LICENSE  README.md  Shaun_the_Sheep.PNG  Tikz_Example.ipynb\r\n"
     ]
    }
   ],
   "source": [
    "%ls"
   ]
  },
  {
   "cell_type": "code",
   "execution_count": 7,
   "metadata": {
    "code_folding": []
   },
   "outputs": [],
   "source": [
    "def stuff(x, y):\n",
    "    z = x**2 + y**3\n",
    "    return z\n",
    "\n",
    "\n",
    "x = 5"
   ]
  },
  {
   "cell_type": "code",
   "execution_count": null,
   "metadata": {},
   "outputs": [],
   "source": []
  },
  {
   "cell_type": "code",
   "execution_count": null,
   "metadata": {},
   "outputs": [],
   "source": []
  }
 ],
 "metadata": {
  "kernelspec": {
   "display_name": "Python 2",
   "language": "python",
   "name": "python2"
  },
  "language_info": {
   "codemirror_mode": {
    "name": "ipython",
    "version": 2
   },
   "file_extension": ".py",
   "mimetype": "text/x-python",
   "name": "python",
   "nbconvert_exporter": "python",
   "pygments_lexer": "ipython2",
   "version": "2.7.12"
  },
  "toc": {
   "nav_menu": {
    "height": "701px",
    "width": "410px"
   },
   "number_sections": true,
   "sideBar": true,
   "skip_h1_title": false,
   "toc_cell": true,
   "toc_position": {},
   "toc_section_display": "block",
   "toc_window_display": true
  },
  "varInspector": {
   "cols": {
    "lenName": 16,
    "lenType": 16,
    "lenVar": 40
   },
   "kernels_config": {
    "python": {
     "delete_cmd_postfix": "",
     "delete_cmd_prefix": "del ",
     "library": "var_list.py",
     "varRefreshCmd": "print(var_dic_list())"
    },
    "r": {
     "delete_cmd_postfix": ") ",
     "delete_cmd_prefix": "rm(",
     "library": "var_list.r",
     "varRefreshCmd": "cat(var_dic_list()) "
    }
   },
   "oldHeight": 122,
   "position": {
    "height": "144px",
    "left": "1508px",
    "right": "20px",
    "top": "196px",
    "width": "350px"
   },
   "types_to_exclude": [
    "module",
    "function",
    "builtin_function_or_method",
    "instance",
    "_Feature"
   ],
   "varInspector_section_display": "block",
   "window_display": false
  }
 },
 "nbformat": 4,
 "nbformat_minor": 2
}
